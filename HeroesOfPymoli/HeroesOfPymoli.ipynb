{
 "cells": [
  {
   "cell_type": "markdown",
   "metadata": {},
   "source": [
    "### Note\n",
    "* Instructions have been included for each segment. You do not have to follow them exactly, but they are included to help you think through the steps."
   ]
  },
  {
   "cell_type": "code",
   "execution_count": 1,
   "metadata": {},
   "outputs": [],
   "source": [
    "# Dependencies and Setup\n",
    "import pandas as pd\n",
    "\n",
    "\n",
    "\n",
    "# File to Load (Remember to Change These)\n",
    "file_to_load = \"Resources/purchase_data.csv\"\n",
    "\n",
    "# Read Purchasing File and store into Pandas data frame\n",
    "purchase_data = pd.read_csv(file_to_load)"
   ]
  },
  {
   "cell_type": "markdown",
   "metadata": {},
   "source": [
    "## Player Count"
   ]
  },
  {
   "cell_type": "markdown",
   "metadata": {},
   "source": [
    "* Display the total number of players\n"
   ]
  },
  {
   "cell_type": "code",
   "execution_count": 2,
   "metadata": {},
   "outputs": [
    {
     "data": {
      "text/html": [
       "<div>\n",
       "<style scoped>\n",
       "    .dataframe tbody tr th:only-of-type {\n",
       "        vertical-align: middle;\n",
       "    }\n",
       "\n",
       "    .dataframe tbody tr th {\n",
       "        vertical-align: top;\n",
       "    }\n",
       "\n",
       "    .dataframe thead th {\n",
       "        text-align: right;\n",
       "    }\n",
       "</style>\n",
       "<table border=\"1\" class=\"dataframe\">\n",
       "  <thead>\n",
       "    <tr style=\"text-align: right;\">\n",
       "      <th></th>\n",
       "      <th>Total Players</th>\n",
       "    </tr>\n",
       "  </thead>\n",
       "  <tbody>\n",
       "    <tr>\n",
       "      <th>0</th>\n",
       "      <td>576</td>\n",
       "    </tr>\n",
       "  </tbody>\n",
       "</table>\n",
       "</div>"
      ],
      "text/plain": [
       "   Total Players\n",
       "0            576"
      ]
     },
     "execution_count": 2,
     "metadata": {},
     "output_type": "execute_result"
    }
   ],
   "source": [
    "#find the total number of unique players \n",
    "unique_players = len(purchase_data[\"SN\"].value_counts())\n",
    "\n",
    "#create df to display this data\n",
    "pd.DataFrame({\"Total Players\":[unique_players]})"
   ]
  },
  {
   "cell_type": "markdown",
   "metadata": {},
   "source": [
    "## Purchasing Analysis (Total)"
   ]
  },
  {
   "cell_type": "markdown",
   "metadata": {},
   "source": [
    "* Run basic calculations to obtain number of unique items, average price, etc.\n",
    "\n",
    "\n",
    "* Create a summary data frame to hold the results\n",
    "\n",
    "\n",
    "* Optional: give the displayed data cleaner formatting\n",
    "\n",
    "\n",
    "* Display the summary data frame\n"
   ]
  },
  {
   "cell_type": "code",
   "execution_count": 3,
   "metadata": {
    "scrolled": true
   },
   "outputs": [
    {
     "data": {
      "text/html": [
       "<style  type=\"text/css\" >\n",
       "</style><table id=\"T_e1a80598_7eb3_11eb_9f4d_1cbfc085cea4\" ><thead>    <tr>        <th class=\"blank level0\" ></th>        <th class=\"col_heading level0 col0\" >Number of Unique Items</th>        <th class=\"col_heading level0 col1\" >Average Price</th>        <th class=\"col_heading level0 col2\" >Number of Purchases</th>        <th class=\"col_heading level0 col3\" >Total Revenue</th>    </tr></thead><tbody>\n",
       "                <tr>\n",
       "                        <th id=\"T_e1a80598_7eb3_11eb_9f4d_1cbfc085cea4level0_row0\" class=\"row_heading level0 row0\" >0</th>\n",
       "                        <td id=\"T_e1a80598_7eb3_11eb_9f4d_1cbfc085cea4row0_col0\" class=\"data row0 col0\" >179</td>\n",
       "                        <td id=\"T_e1a80598_7eb3_11eb_9f4d_1cbfc085cea4row0_col1\" class=\"data row0 col1\" >$3.05</td>\n",
       "                        <td id=\"T_e1a80598_7eb3_11eb_9f4d_1cbfc085cea4row0_col2\" class=\"data row0 col2\" >780</td>\n",
       "                        <td id=\"T_e1a80598_7eb3_11eb_9f4d_1cbfc085cea4row0_col3\" class=\"data row0 col3\" >$2,379.77</td>\n",
       "            </tr>\n",
       "    </tbody></table>"
      ],
      "text/plain": [
       "<pandas.io.formats.style.Styler at 0x181480a7080>"
      ]
     },
     "execution_count": 3,
     "metadata": {},
     "output_type": "execute_result"
    }
   ],
   "source": [
    "#get number of unique items\n",
    "num_unique_items = len(purchase_data[\"Item Name\"].value_counts())\n",
    "num_unique_items\n",
    "#get average price\n",
    "average_price = (purchase_data[\"Price\"]).mean()\n",
    "average_price\n",
    "#get number of purchases\n",
    "num_purchases = (purchase_data[\"Purchase ID\"]).count()\n",
    "num_purchases\n",
    "#get total revenue\n",
    "total_revenue = (purchase_data[\"Price\"]).sum()\n",
    "total_revenue\n",
    "\n",
    "#create summary df to hold results\n",
    "purchase_analysis_df = pd.DataFrame({\"Number of Unique Items\":[num_unique_items],\n",
    "                           \"Average Price\":[average_price], \n",
    "                           \"Number of Purchases\": [num_purchases], \n",
    "                           \"Total Revenue\": [total_revenue]})\n",
    "purchase_analysis_df\n",
    "\n",
    "#clean up the data, format the price and revenue\n",
    "purchase_analysis_df.style.format({'Average Price':\"${:,.2f}\",\n",
    "                         'Total Revenue': '${:,.2f}'})"
   ]
  },
  {
   "cell_type": "markdown",
   "metadata": {},
   "source": [
    "## Gender Demographics"
   ]
  },
  {
   "cell_type": "markdown",
   "metadata": {},
   "source": [
    "* Percentage and Count of Male Players\n",
    "\n",
    "\n",
    "* Percentage and Count of Female Players\n",
    "\n",
    "\n",
    "* Percentage and Count of Other / Non-Disclosed\n",
    "\n",
    "\n"
   ]
  },
  {
   "cell_type": "code",
   "execution_count": 4,
   "metadata": {
    "scrolled": true
   },
   "outputs": [
    {
     "data": {
      "text/html": [
       "<style  type=\"text/css\" >\n",
       "</style><table id=\"T_e1aac4ec_7eb3_11eb_a3e3_1cbfc085cea4\" ><thead>    <tr>        <th class=\"blank level0\" ></th>        <th class=\"col_heading level0 col0\" >Total Count</th>        <th class=\"col_heading level0 col1\" >Percentage of Players</th>    </tr></thead><tbody>\n",
       "                <tr>\n",
       "                        <th id=\"T_e1aac4ec_7eb3_11eb_a3e3_1cbfc085cea4level0_row0\" class=\"row_heading level0 row0\" >Male</th>\n",
       "                        <td id=\"T_e1aac4ec_7eb3_11eb_a3e3_1cbfc085cea4row0_col0\" class=\"data row0 col0\" >484</td>\n",
       "                        <td id=\"T_e1aac4ec_7eb3_11eb_a3e3_1cbfc085cea4row0_col1\" class=\"data row0 col1\" >84.03</td>\n",
       "            </tr>\n",
       "            <tr>\n",
       "                        <th id=\"T_e1aac4ec_7eb3_11eb_a3e3_1cbfc085cea4level0_row1\" class=\"row_heading level0 row1\" >Female</th>\n",
       "                        <td id=\"T_e1aac4ec_7eb3_11eb_a3e3_1cbfc085cea4row1_col0\" class=\"data row1 col0\" >81</td>\n",
       "                        <td id=\"T_e1aac4ec_7eb3_11eb_a3e3_1cbfc085cea4row1_col1\" class=\"data row1 col1\" >14.06</td>\n",
       "            </tr>\n",
       "            <tr>\n",
       "                        <th id=\"T_e1aac4ec_7eb3_11eb_a3e3_1cbfc085cea4level0_row2\" class=\"row_heading level0 row2\" >Other / Non-Disclosed</th>\n",
       "                        <td id=\"T_e1aac4ec_7eb3_11eb_a3e3_1cbfc085cea4row2_col0\" class=\"data row2 col0\" >11</td>\n",
       "                        <td id=\"T_e1aac4ec_7eb3_11eb_a3e3_1cbfc085cea4row2_col1\" class=\"data row2 col1\" >1.91</td>\n",
       "            </tr>\n",
       "    </tbody></table>"
      ],
      "text/plain": [
       "<pandas.io.formats.style.Styler at 0x18148ff4668>"
      ]
     },
     "execution_count": 4,
     "metadata": {},
     "output_type": "execute_result"
    }
   ],
   "source": [
    "#slice Gender column into different categories \n",
    "#count male players\n",
    "#count female players \n",
    "#count non-disclosed\n",
    "#there are too many players with count, need to delete duplicates\n",
    "#create a df with sn and gender to identify and drop dups\n",
    "diff_genders = purchase_data[[\"SN\", \"Gender\"]]\n",
    "diff_genders\n",
    "diff_genders = diff_genders.drop_duplicates()\n",
    "unique_genders = diff_genders[\"Gender\"].value_counts()\n",
    "#got it! \n",
    "unique_genders\n",
    "percents = (unique_genders/unique_players)*100\n",
    "percents\n",
    "#create df w count and percent \n",
    "gender_count_percent = pd.DataFrame({\"Total Count\": unique_genders,\n",
    "                                    \"Percentage of Players\": percents})\n",
    "\n",
    "gender_count_percent\n",
    "#format count and percent \n",
    "gender_count_percent.sort_values([\"Total Count\"], ascending = False).style.format({\"Percentage of Players\":\"{:.2f}\"})\n"
   ]
  },
  {
   "cell_type": "markdown",
   "metadata": {},
   "source": [
    "\n",
    "## Purchasing Analysis (Gender)"
   ]
  },
  {
   "cell_type": "markdown",
   "metadata": {},
   "source": [
    "* Run basic calculations to obtain purchase count, avg. purchase price, avg. purchase total per person etc. by gender\n",
    "\n",
    "\n",
    "\n",
    "\n",
    "* Create a summary data frame to hold the results\n",
    "\n",
    "\n",
    "* Optional: give the displayed data cleaner formatting\n",
    "\n",
    "\n",
    "* Display the summary data frame"
   ]
  },
  {
   "cell_type": "code",
   "execution_count": 10,
   "metadata": {},
   "outputs": [
    {
     "data": {
      "text/html": [
       "<style  type=\"text/css\" >\n",
       "</style><table id=\"T_bc48f39e_7ebb_11eb_8c33_1cbfc085cea4\" ><thead>    <tr>        <th class=\"blank level0\" ></th>        <th class=\"col_heading level0 col0\" >Purchase Count</th>        <th class=\"col_heading level0 col1\" >Average Purchase Price</th>        <th class=\"col_heading level0 col2\" >Av Total Purchase per Person</th>    </tr>    <tr>        <th class=\"index_name level0\" >Gender</th>        <th class=\"blank\" ></th>        <th class=\"blank\" ></th>        <th class=\"blank\" ></th>    </tr></thead><tbody>\n",
       "                <tr>\n",
       "                        <th id=\"T_bc48f39e_7ebb_11eb_8c33_1cbfc085cea4level0_row0\" class=\"row_heading level0 row0\" >Female</th>\n",
       "                        <td id=\"T_bc48f39e_7ebb_11eb_8c33_1cbfc085cea4row0_col0\" class=\"data row0 col0\" >113</td>\n",
       "                        <td id=\"T_bc48f39e_7ebb_11eb_8c33_1cbfc085cea4row0_col1\" class=\"data row0 col1\" >$3.20</td>\n",
       "                        <td id=\"T_bc48f39e_7ebb_11eb_8c33_1cbfc085cea4row0_col2\" class=\"data row0 col2\" >4.47</td>\n",
       "            </tr>\n",
       "            <tr>\n",
       "                        <th id=\"T_bc48f39e_7ebb_11eb_8c33_1cbfc085cea4level0_row1\" class=\"row_heading level0 row1\" >Male</th>\n",
       "                        <td id=\"T_bc48f39e_7ebb_11eb_8c33_1cbfc085cea4row1_col0\" class=\"data row1 col0\" >652</td>\n",
       "                        <td id=\"T_bc48f39e_7ebb_11eb_8c33_1cbfc085cea4row1_col1\" class=\"data row1 col1\" >$3.02</td>\n",
       "                        <td id=\"T_bc48f39e_7ebb_11eb_8c33_1cbfc085cea4row1_col2\" class=\"data row1 col2\" >4.07</td>\n",
       "            </tr>\n",
       "            <tr>\n",
       "                        <th id=\"T_bc48f39e_7ebb_11eb_8c33_1cbfc085cea4level0_row2\" class=\"row_heading level0 row2\" >Other / Non-Disclosed</th>\n",
       "                        <td id=\"T_bc48f39e_7ebb_11eb_8c33_1cbfc085cea4row2_col0\" class=\"data row2 col0\" >15</td>\n",
       "                        <td id=\"T_bc48f39e_7ebb_11eb_8c33_1cbfc085cea4row2_col1\" class=\"data row2 col1\" >$3.35</td>\n",
       "                        <td id=\"T_bc48f39e_7ebb_11eb_8c33_1cbfc085cea4row2_col2\" class=\"data row2 col2\" >4.56</td>\n",
       "            </tr>\n",
       "    </tbody></table>"
      ],
      "text/plain": [
       "<pandas.io.formats.style.Styler at 0x18149034978>"
      ]
     },
     "execution_count": 10,
     "metadata": {},
     "output_type": "execute_result"
    }
   ],
   "source": [
    "#purchase count by gender\n",
    "#need to groupby from purchase data first \n",
    "gender_analysis = purchase_data.groupby(\"Gender\")\n",
    "purchase_count = gender_analysis[\"Purchase ID\"].count()\n",
    "purchase_count\n",
    "#average purchase price by gender\n",
    "av_purchase_price = gender_analysis[\"Price\"].mean()\n",
    "av_purchase_price\n",
    "#total purchase value by gender\n",
    "total_purchase_value = gender_analysis[\"Price\"].sum()\n",
    "total_purchase_value\n",
    "#average total purchase per person\n",
    "#get this by dividing total purchase value by unique gender counts\n",
    "total_purchase_per_person = total_purchase_value/unique_genders\n",
    "total_purchase_per_person\n",
    "\n",
    "#create and style df \n",
    "\n",
    "#remove index so all data shows up \n",
    "gender_purchase_analysis.index.name = None\n",
    "\n",
    "\n",
    "gender_purchase_analysis = pd.DataFrame({\"Purchase Count\": purchase_count, \n",
    "                                        \"Average Purchase Price\": av_purchase_price, \n",
    "                                        \"Av Total Purchase per Person\": total_purchase_per_person})\n",
    "gender_purchase_analysis\n",
    "\n",
    "\n",
    "gender_purchase_analysis.style.format({\"Average Purchase Value\":\"${:,.2f}\",\n",
    "                                  \"Average Purchase Price\":\"${:,.2f}\",\n",
    "                                  \"Av Total Purchase per Person\":\"{:.2f}\"})\n",
    "\n",
    "\n",
    "\n"
   ]
  },
  {
   "cell_type": "markdown",
   "metadata": {},
   "source": [
    "## Age Demographics"
   ]
  },
  {
   "cell_type": "markdown",
   "metadata": {},
   "source": [
    "* Establish bins for ages\n",
    "\n",
    "\n",
    "* Categorize the existing players using the age bins. Hint: use pd.cut()\n",
    "\n",
    "\n",
    "* Calculate the numbers and percentages by age group\n",
    "\n",
    "\n",
    "* Create a summary data frame to hold the results\n",
    "\n",
    "\n",
    "* Optional: round the percentage column to two decimal points\n",
    "\n",
    "\n",
    "* Display Age Demographics Table\n"
   ]
  },
  {
   "cell_type": "code",
   "execution_count": 31,
   "metadata": {},
   "outputs": [
    {
     "data": {
      "text/html": [
       "<style  type=\"text/css\" >\n",
       "</style><table id=\"T_eee4444a_7ec1_11eb_bb1c_1cbfc085cea4\" ><thead>    <tr>        <th class=\"blank level0\" ></th>        <th class=\"col_heading level0 col0\" >Total Count</th>        <th class=\"col_heading level0 col1\" >Percentage of Players</th>    </tr>    <tr>        <th class=\"index_name level0\" >Age Group</th>        <th class=\"blank\" ></th>        <th class=\"blank\" ></th>    </tr></thead><tbody>\n",
       "                <tr>\n",
       "                        <th id=\"T_eee4444a_7ec1_11eb_bb1c_1cbfc085cea4level0_row0\" class=\"row_heading level0 row0\" ><10</th>\n",
       "                        <td id=\"T_eee4444a_7ec1_11eb_bb1c_1cbfc085cea4row0_col0\" class=\"data row0 col0\" >17</td>\n",
       "                        <td id=\"T_eee4444a_7ec1_11eb_bb1c_1cbfc085cea4row0_col1\" class=\"data row0 col1\" >2.95</td>\n",
       "            </tr>\n",
       "            <tr>\n",
       "                        <th id=\"T_eee4444a_7ec1_11eb_bb1c_1cbfc085cea4level0_row1\" class=\"row_heading level0 row1\" >10-14</th>\n",
       "                        <td id=\"T_eee4444a_7ec1_11eb_bb1c_1cbfc085cea4row1_col0\" class=\"data row1 col0\" >22</td>\n",
       "                        <td id=\"T_eee4444a_7ec1_11eb_bb1c_1cbfc085cea4row1_col1\" class=\"data row1 col1\" >3.82</td>\n",
       "            </tr>\n",
       "            <tr>\n",
       "                        <th id=\"T_eee4444a_7ec1_11eb_bb1c_1cbfc085cea4level0_row2\" class=\"row_heading level0 row2\" >15-19</th>\n",
       "                        <td id=\"T_eee4444a_7ec1_11eb_bb1c_1cbfc085cea4row2_col0\" class=\"data row2 col0\" >107</td>\n",
       "                        <td id=\"T_eee4444a_7ec1_11eb_bb1c_1cbfc085cea4row2_col1\" class=\"data row2 col1\" >18.58</td>\n",
       "            </tr>\n",
       "            <tr>\n",
       "                        <th id=\"T_eee4444a_7ec1_11eb_bb1c_1cbfc085cea4level0_row3\" class=\"row_heading level0 row3\" >20-24</th>\n",
       "                        <td id=\"T_eee4444a_7ec1_11eb_bb1c_1cbfc085cea4row3_col0\" class=\"data row3 col0\" >258</td>\n",
       "                        <td id=\"T_eee4444a_7ec1_11eb_bb1c_1cbfc085cea4row3_col1\" class=\"data row3 col1\" >44.79</td>\n",
       "            </tr>\n",
       "            <tr>\n",
       "                        <th id=\"T_eee4444a_7ec1_11eb_bb1c_1cbfc085cea4level0_row4\" class=\"row_heading level0 row4\" >25-29</th>\n",
       "                        <td id=\"T_eee4444a_7ec1_11eb_bb1c_1cbfc085cea4row4_col0\" class=\"data row4 col0\" >77</td>\n",
       "                        <td id=\"T_eee4444a_7ec1_11eb_bb1c_1cbfc085cea4row4_col1\" class=\"data row4 col1\" >13.37</td>\n",
       "            </tr>\n",
       "            <tr>\n",
       "                        <th id=\"T_eee4444a_7ec1_11eb_bb1c_1cbfc085cea4level0_row5\" class=\"row_heading level0 row5\" >30-34</th>\n",
       "                        <td id=\"T_eee4444a_7ec1_11eb_bb1c_1cbfc085cea4row5_col0\" class=\"data row5 col0\" >52</td>\n",
       "                        <td id=\"T_eee4444a_7ec1_11eb_bb1c_1cbfc085cea4row5_col1\" class=\"data row5 col1\" >9.03</td>\n",
       "            </tr>\n",
       "            <tr>\n",
       "                        <th id=\"T_eee4444a_7ec1_11eb_bb1c_1cbfc085cea4level0_row6\" class=\"row_heading level0 row6\" >35-39</th>\n",
       "                        <td id=\"T_eee4444a_7ec1_11eb_bb1c_1cbfc085cea4row6_col0\" class=\"data row6 col0\" >31</td>\n",
       "                        <td id=\"T_eee4444a_7ec1_11eb_bb1c_1cbfc085cea4row6_col1\" class=\"data row6 col1\" >5.38</td>\n",
       "            </tr>\n",
       "            <tr>\n",
       "                        <th id=\"T_eee4444a_7ec1_11eb_bb1c_1cbfc085cea4level0_row7\" class=\"row_heading level0 row7\" >40+</th>\n",
       "                        <td id=\"T_eee4444a_7ec1_11eb_bb1c_1cbfc085cea4row7_col0\" class=\"data row7 col0\" >12</td>\n",
       "                        <td id=\"T_eee4444a_7ec1_11eb_bb1c_1cbfc085cea4row7_col1\" class=\"data row7 col1\" >2.08</td>\n",
       "            </tr>\n",
       "    </tbody></table>"
      ],
      "text/plain": [
       "<pandas.io.formats.style.Styler at 0x181491362e8>"
      ]
     },
     "execution_count": 31,
     "metadata": {},
     "output_type": "execute_result"
    }
   ],
   "source": [
    "#create bins for ages\n",
    "#create categories for bins\n",
    "age_bins = [0,9.90,14.99,19.99,24.99,29.99,34.99,39.99,999]\n",
    "bin_names = [\"<10\", \"10-14\", \"15-19\", \"20-24\", \"25-29\", \"30-34\", \"35-39\", \"40+\"]\n",
    "\n",
    "#categorize age data into the bins - pd.cut will help here\n",
    "purchase_data[\"Age Group\"] = pd.cut(purchase_data[\"Age\"], age_bins, labels = bin_names)\n",
    "\n",
    "#calculate numbers of players in each bin and %\n",
    "#first create new df of age group\n",
    "group_ages = purchase_data.groupby(\"Age Group\")\n",
    "#count players in each category\n",
    "#found this nunique gem here - https://pandas.pydata.org/pandas-docs/\n",
    "#stable/reference/api/pandas.DataFrame.nunique.html\n",
    "ages_count = group_ages[\"SN\"].nunique()\n",
    "ages_count\n",
    "#get percent of ages\n",
    "ages_percent = (ages_count/unique_players)*100\n",
    "ages_percent\n",
    "#create df/ display  \n",
    "age_analysis = pd.DataFrame({\"Total Count\": ages_count, \n",
    "                            \"Percentage of Players\": ages_percent})\n",
    "age_analysis\n",
    "#style it up\n",
    "age_analysis.style.format({\"Percentage of Players\":\"{:,.2f}\"})"
   ]
  },
  {
   "cell_type": "markdown",
   "metadata": {},
   "source": [
    "## Purchasing Analysis (Age)"
   ]
  },
  {
   "cell_type": "markdown",
   "metadata": {},
   "source": [
    "* Bin the purchase_data data frame by age\n",
    "\n",
    "\n",
    "* Run basic calculations to obtain purchase count, avg. purchase price, avg. purchase total per person etc. in the table below\n",
    "\n",
    "\n",
    "* Create a summary data frame to hold the results\n",
    "\n",
    "\n",
    "* Optional: give the displayed data cleaner formatting\n",
    "\n",
    "\n",
    "* Display the summary data frame"
   ]
  },
  {
   "cell_type": "code",
   "execution_count": null,
   "metadata": {},
   "outputs": [],
   "source": []
  },
  {
   "cell_type": "markdown",
   "metadata": {},
   "source": [
    "## Top Spenders"
   ]
  },
  {
   "cell_type": "markdown",
   "metadata": {},
   "source": [
    "* Run basic calculations to obtain the results in the table below\n",
    "\n",
    "\n",
    "* Create a summary data frame to hold the results\n",
    "\n",
    "\n",
    "* Sort the total purchase value column in descending order\n",
    "\n",
    "\n",
    "* Optional: give the displayed data cleaner formatting\n",
    "\n",
    "\n",
    "* Display a preview of the summary data frame\n",
    "\n"
   ]
  },
  {
   "cell_type": "code",
   "execution_count": null,
   "metadata": {},
   "outputs": [],
   "source": []
  },
  {
   "cell_type": "markdown",
   "metadata": {},
   "source": [
    "## Most Popular Items"
   ]
  },
  {
   "cell_type": "markdown",
   "metadata": {},
   "source": [
    "* Retrieve the Item ID, Item Name, and Item Price columns\n",
    "\n",
    "\n",
    "* Group by Item ID and Item Name. Perform calculations to obtain purchase count, average item price, and total purchase value\n",
    "\n",
    "\n",
    "* Create a summary data frame to hold the results\n",
    "\n",
    "\n",
    "* Sort the purchase count column in descending order\n",
    "\n",
    "\n",
    "* Optional: give the displayed data cleaner formatting\n",
    "\n",
    "\n",
    "* Display a preview of the summary data frame\n",
    "\n"
   ]
  },
  {
   "cell_type": "code",
   "execution_count": null,
   "metadata": {},
   "outputs": [],
   "source": []
  },
  {
   "cell_type": "markdown",
   "metadata": {},
   "source": [
    "## Most Profitable Items"
   ]
  },
  {
   "cell_type": "markdown",
   "metadata": {},
   "source": [
    "* Sort the above table by total purchase value in descending order\n",
    "\n",
    "\n",
    "* Optional: give the displayed data cleaner formatting\n",
    "\n",
    "\n",
    "* Display a preview of the data frame\n",
    "\n"
   ]
  },
  {
   "cell_type": "code",
   "execution_count": null,
   "metadata": {
    "scrolled": true
   },
   "outputs": [],
   "source": []
  }
 ],
 "metadata": {
  "anaconda-cloud": {},
  "kernel_info": {
   "name": "python3"
  },
  "kernelspec": {
   "display_name": "Python 3",
   "language": "python",
   "name": "python3"
  },
  "language_info": {
   "codemirror_mode": {
    "name": "ipython",
    "version": 3
   },
   "file_extension": ".py",
   "mimetype": "text/x-python",
   "name": "python",
   "nbconvert_exporter": "python",
   "pygments_lexer": "ipython3",
   "version": "3.6.10"
  },
  "latex_envs": {
   "LaTeX_envs_menu_present": true,
   "autoclose": false,
   "autocomplete": true,
   "bibliofile": "biblio.bib",
   "cite_by": "apalike",
   "current_citInitial": 1,
   "eqLabelWithNumbers": true,
   "eqNumInitial": 1,
   "hotkeys": {
    "equation": "Ctrl-E",
    "itemize": "Ctrl-I"
   },
   "labels_anchors": false,
   "latex_user_defs": false,
   "report_style_numbering": false,
   "user_envs_cfg": false
  },
  "nteract": {
   "version": "0.2.0"
  }
 },
 "nbformat": 4,
 "nbformat_minor": 2
}
